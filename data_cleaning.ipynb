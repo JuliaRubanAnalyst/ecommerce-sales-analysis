{
 "cells": [
  {
   "cell_type": "code",
   "execution_count": 9,
   "metadata": {},
   "outputs": [],
   "source": [
    "import pandas as pd\n",
    "import numpy as np\n",
    "\n",
    "dataset = pd.read_csv('online_retail.csv');\n",
    "\n",
    "\n",
    "dataset_cleaned = dataset.dropna()\n",
    "dataset_cleaned = dataset_cleaned.drop_duplicates()\n",
    "\n",
    "dataset_cleaned.to_csv('dataset_cleaned.csv', index=False)\n",
    "# dataset_cleaned.head()\n"
   ]
  },
  {
   "cell_type": "code",
   "execution_count": 10,
   "metadata": {},
   "outputs": [
    {
     "name": "stdout",
     "output_type": "stream",
     "text": [
      "            Quantity      UnitPrice     CustomerID\n",
      "count  401604.000000  401604.000000  401604.000000\n",
      "mean       12.183273       3.474064   15281.160818\n",
      "std       250.283037      69.764035    1714.006089\n",
      "min    -80995.000000       0.000000   12346.000000\n",
      "25%         2.000000       1.250000   13939.000000\n",
      "50%         5.000000       1.950000   15145.000000\n",
      "75%        12.000000       3.750000   16784.000000\n",
      "max     80995.000000   38970.000000   18287.000000\n"
     ]
    }
   ],
   "source": [
    "print(dataset_cleaned.describe())"
   ]
  },
  {
   "cell_type": "code",
   "execution_count": 12,
   "metadata": {},
   "outputs": [
    {
     "name": "stdout",
     "output_type": "stream",
     "text": [
      "            Quantity      UnitPrice     CustomerID\n",
      "count  392732.000000  392732.000000  392732.000000\n",
      "mean       13.153718       3.125596   15287.734822\n",
      "std       181.588420      22.240725    1713.567773\n",
      "min         1.000000       0.000000   12346.000000\n",
      "25%         2.000000       1.250000   13955.000000\n",
      "50%         6.000000       1.950000   15150.000000\n",
      "75%        12.000000       3.750000   16791.000000\n",
      "max     80995.000000    8142.750000   18287.000000\n"
     ]
    }
   ],
   "source": [
    "# Удаление отрицательных значений в столбце Quantity\n",
    "dataset_cleaned = dataset_cleaned[dataset_cleaned['Quantity'] > 0]\n",
    "print(dataset_cleaned.describe())"
   ]
  },
  {
   "cell_type": "code",
   "execution_count": 13,
   "metadata": {},
   "outputs": [
    {
     "name": "stdout",
     "output_type": "stream",
     "text": [
      "            Quantity      UnitPrice     CustomerID\n",
      "count  392692.000000  392692.000000  392692.000000\n",
      "mean       13.119702       3.125914   15287.843865\n",
      "std       180.492832      22.241836    1713.539549\n",
      "min         1.000000       0.001000   12346.000000\n",
      "25%         2.000000       1.250000   13955.000000\n",
      "50%         6.000000       1.950000   15150.000000\n",
      "75%        12.000000       3.750000   16791.000000\n",
      "max     80995.000000    8142.750000   18287.000000\n"
     ]
    }
   ],
   "source": [
    "# Удаление строк с нулевой ценой\n",
    "dataset_cleaned = dataset_cleaned[dataset_cleaned['UnitPrice'] > 0]\n",
    "print(dataset_cleaned.describe())"
   ]
  },
  {
   "cell_type": "code",
   "execution_count": 15,
   "metadata": {},
   "outputs": [
    {
     "name": "stdout",
     "output_type": "stream",
     "text": [
      "            Quantity      UnitPrice     CustomerID\n",
      "count  387874.000000  387874.000000  387874.000000\n",
      "mean       13.253881       2.682938   15297.852194\n",
      "std       181.605535       2.459287    1710.469218\n",
      "min         1.000000       0.001000   12346.000000\n",
      "25%         2.000000       1.250000   13969.000000\n",
      "50%         6.000000       1.790000   15159.000000\n",
      "75%        12.000000       3.750000   16800.000000\n",
      "max     80995.000000      12.750000   18287.000000\n"
     ]
    }
   ],
   "source": [
    "# Проверка выбросов по ценам, выше 99-го процентиля\n",
    "upper_limit = dataset_cleaned['UnitPrice'].quantile(0.99)\n",
    "\n",
    "# Удаление строк с ценой выше 99-го процентиля\n",
    "dataset_cleaned = dataset_cleaned[dataset_cleaned['UnitPrice'] <= upper_limit]\n",
    "print(dataset_cleaned.describe())"
   ]
  },
  {
   "cell_type": "code",
   "execution_count": 16,
   "metadata": {},
   "outputs": [
    {
     "name": "stdout",
     "output_type": "stream",
     "text": [
      "       InvoiceNo     StockCode                 Description  Quantity  \\\n",
      "157195    550193          PADS  PADS TO MATCH ALL CUSHIONS         1   \n",
      "279045    561226          PADS  PADS TO MATCH ALL CUSHIONS         1   \n",
      "359871    568200          PADS  PADS TO MATCH ALL CUSHIONS         1   \n",
      "361741    568375  BANK CHARGES                Bank Charges         1   \n",
      "\n",
      "                InvoiceDate  UnitPrice  CustomerID         Country  \n",
      "157195  2011-04-15 09:27:00      0.001     13952.0  United Kingdom  \n",
      "279045  2011-07-26 10:13:00      0.001     15618.0  United Kingdom  \n",
      "359871  2011-09-25 14:58:00      0.001     16198.0  United Kingdom  \n",
      "361741  2011-09-26 17:01:00      0.001     13405.0  United Kingdom  \n"
     ]
    }
   ],
   "source": [
    "min_price_items = dataset_cleaned[dataset_cleaned['UnitPrice'] < 0.01]\n",
    "print(min_price_items)"
   ]
  },
  {
   "cell_type": "code",
   "execution_count": 19,
   "metadata": {},
   "outputs": [
    {
     "name": "stdout",
     "output_type": "stream",
     "text": [
      "            Quantity      UnitPrice     CustomerID\n",
      "count  387874.000000  387874.000000  387874.000000\n",
      "mean       13.253881       2.682957   15297.852194\n",
      "std       181.605535       2.459273    1710.469218\n",
      "min         1.000000       0.040000   12346.000000\n",
      "25%         2.000000       1.250000   13969.000000\n",
      "50%         6.000000       1.790000   15159.000000\n",
      "75%        12.000000       3.750000   16800.000000\n",
      "max     80995.000000      12.750000   18287.000000\n"
     ]
    }
   ],
   "source": [
    "# Замена цен ниже 0.01 на медианное значение\n",
    "median_price = dataset_cleaned['UnitPrice'].median()\n",
    "dataset_cleaned['UnitPrice'] = dataset_cleaned['UnitPrice'].apply(lambda x: median_price if x < 0.01 else x)\n",
    "\n",
    "print(dataset_cleaned.describe())"
   ]
  },
  {
   "cell_type": "code",
   "execution_count": 20,
   "metadata": {},
   "outputs": [],
   "source": [
    "dataset_cleaned.to_csv('dataset_cleaned.csv', index=False)"
   ]
  }
 ],
 "metadata": {
  "kernelspec": {
   "display_name": "Python 3",
   "language": "python",
   "name": "python3"
  },
  "language_info": {
   "codemirror_mode": {
    "name": "ipython",
    "version": 3
   },
   "file_extension": ".py",
   "mimetype": "text/x-python",
   "name": "python",
   "nbconvert_exporter": "python",
   "pygments_lexer": "ipython3",
   "version": "3.11.2"
  }
 },
 "nbformat": 4,
 "nbformat_minor": 2
}
